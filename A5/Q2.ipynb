{
 "cells": [
  {
   "cell_type": "code",
   "execution_count": 121,
   "metadata": {},
   "outputs": [],
   "source": [
    "import numpy as np\n",
    "import matplotlib.pyplot as plt\n"
   ]
  },
  {
   "cell_type": "code",
   "execution_count": 122,
   "metadata": {},
   "outputs": [],
   "source": [
    "k = 0\n",
    "n_steps = 300\n",
    "x = np.zeros(n_steps)\n",
    "mean_x = np.zeros(n_steps)\n",
    "var_x = np.zeros(n_steps)\n",
    "\n",
    "def markov(x):\n",
    "    mean = 0\n",
    "    std = 0.19\n",
    "    v = np.random.normal(mean, std**0.5)\n",
    "\n",
    "    new_x = 0.9 * x + v\n",
    "    return new_x\n",
    "\n",
    "def markov_fig(x):\n",
    "    fig, ax = plt.subplots()\n",
    "    ax.plot(x)\n",
    "    ax.set_xlabel('Time')\n",
    "    ax.set_ylabel('Value')\n",
    "    ax.set_title('Markov Process')\n",
    "    return fig\n",
    "\n",
    "def x_compared_to_pdf(x):\n",
    "    fig, ax = plt.subplots()\n",
    "    ax.hist(x, bins=30, density=True, label='Histogram of x', alpha=0.5)\n",
    "\n",
    "    mean = 0\n",
    "    std = 1\n",
    "    x_pdf = np.linspace(-5, 5, 100)\n",
    "    y_pdf = 1/(std * np.sqrt(2 * np.pi)) * np.exp( - (x_pdf - mean)**2 / (2 * std**2))\n",
    "    ax.plot(x_pdf, y_pdf, 'r-', lw=2, label='Standard Normal PDF')\n",
    "\n",
    "    ax.set_xlabel('Value')\n",
    "    ax.set_ylabel('Density')\n",
    "    ax.set_title('Histogram of x')\n",
    "    ax.legend()\n",
    "    return fig\n",
    "\n",
    "def mean_var_fig(mean_x, var_x):\n",
    "    fig, ax = plt.subplots()\n",
    "    ax.plot(mean_x, label='Mean')\n",
    "    ax.plot(var_x, label='Variance')\n",
    "    ax.set_xlabel('Time')\n",
    "    ax.set_ylabel('Value')\n",
    "    ax.set_title(f'final mean: {mean_x[-1]:.2f}, final variance: {var_x[-1]:.2f}')\n",
    "    ax.legend()\n",
    "    return fig"
   ]
  },
  {
   "cell_type": "code",
   "execution_count": null,
   "metadata": {},
   "outputs": [
    {
     "name": "stderr",
     "output_type": "stream",
     "text": [
      "/Users/malteaqvist/opt/anaconda3/envs/TIF360/lib/python3.10/site-packages/numpy/core/fromnumeric.py:3504: RuntimeWarning: Mean of empty slice.\n",
      "  return _methods._mean(a, axis=axis, dtype=dtype,\n",
      "/Users/malteaqvist/opt/anaconda3/envs/TIF360/lib/python3.10/site-packages/numpy/core/_methods.py:129: RuntimeWarning: invalid value encountered in scalar divide\n",
      "  ret = ret.dtype.type(ret / rcount)\n",
      "/Users/malteaqvist/opt/anaconda3/envs/TIF360/lib/python3.10/site-packages/numpy/core/fromnumeric.py:3787: RuntimeWarning: Degrees of freedom <= 0 for slice\n",
      "  return _methods._var(a, axis=axis, dtype=dtype, out=out, ddof=ddof,\n",
      "/Users/malteaqvist/opt/anaconda3/envs/TIF360/lib/python3.10/site-packages/numpy/core/_methods.py:163: RuntimeWarning: invalid value encountered in divide\n",
      "  arrmean = um.true_divide(arrmean, div, out=arrmean,\n",
      "/Users/malteaqvist/opt/anaconda3/envs/TIF360/lib/python3.10/site-packages/numpy/core/_methods.py:198: RuntimeWarning: invalid value encountered in scalar divide\n",
      "  ret = ret.dtype.type(ret / rcount)\n"
     ]
    },
    {
     "ename": "IndexError",
     "evalue": "index 300 is out of bounds for axis 0 with size 300",
     "output_type": "error",
     "traceback": [
      "\u001b[0;31m---------------------------------------------------------------------------\u001b[0m",
      "\u001b[0;31mIndexError\u001b[0m                                Traceback (most recent call last)",
      "Cell \u001b[0;32mIn[123], line 7\u001b[0m\n\u001b[1;32m      5\u001b[0m     \u001b[38;5;28;01mif\u001b[39;00m k \u001b[38;5;241m==\u001b[39m n_steps:\n\u001b[1;32m      6\u001b[0m         \u001b[38;5;28;01mcontinue\u001b[39;00m\n\u001b[0;32m----> 7\u001b[0m     x[k\u001b[38;5;241m+\u001b[39m\u001b[38;5;241m1\u001b[39m] \u001b[38;5;241m=\u001b[39m markov(x[k])\n\u001b[1;32m      8\u001b[0m     k \u001b[38;5;241m+\u001b[39m\u001b[38;5;241m=\u001b[39m \u001b[38;5;241m1\u001b[39m\n\u001b[1;32m     10\u001b[0m markov_fig \u001b[38;5;241m=\u001b[39m markov_fig(x)\n",
      "\u001b[0;31mIndexError\u001b[0m: index 300 is out of bounds for axis 0 with size 300"
     ]
    }
   ],
   "source": [
    "x[k] = 5\n",
    "while k < n_steps:\n",
    "    mean_x[k] = np.mean(x[:k])\n",
    "    var_x[k] = np.var(x[:k])\n",
    "    if k < n_steps:\n",
    "        x[k+1] = markov(x[k])\n",
    "        k += 1\n",
    "\n",
    "markov_fig = markov_fig(x)\n",
    "plt.show()\n",
    "\n",
    "x_compared_to_pdf = x_compared_to_pdf(x)\n",
    "plt.show()\n",
    "\n",
    "mean_var_fig = mean_var_fig(mean_x, var_x)"
   ]
  },
  {
   "cell_type": "code",
   "execution_count": null,
   "metadata": {},
   "outputs": [],
   "source": []
  }
 ],
 "metadata": {
  "kernelspec": {
   "display_name": "Tif360",
   "language": "python",
   "name": "tif360"
  },
  "language_info": {
   "codemirror_mode": {
    "name": "ipython",
    "version": 3
   },
   "file_extension": ".py",
   "mimetype": "text/x-python",
   "name": "python",
   "nbconvert_exporter": "python",
   "pygments_lexer": "ipython3",
   "version": "3.10.13"
  }
 },
 "nbformat": 4,
 "nbformat_minor": 2
}
