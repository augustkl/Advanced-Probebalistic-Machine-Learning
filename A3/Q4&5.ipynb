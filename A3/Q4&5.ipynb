{
 "cells": [
  {
   "cell_type": "code",
   "execution_count": 27,
   "metadata": {},
   "outputs": [],
   "source": [
    "import numpy as np\n",
    "import pandas as pd\n",
    "from sklearn.metrics import (\n",
    "    accuracy_score,\n",
    "    precision_score,\n",
    "    recall_score,\n",
    "    f1_score,\n",
    "    roc_curve,\n",
    "    auc,\n",
    ")\n",
    "from sklearn.model_selection import train_test_split\n",
    "import matplotlib.pyplot as plt\n",
    "from sklearn.linear_model import LogisticRegression"
   ]
  },
  {
   "cell_type": "code",
   "execution_count": 28,
   "metadata": {},
   "outputs": [],
   "source": [
    "# Load and preprocess data\n",
    "def Normalize(X):\n",
    "    # makes prediction less accurate\n",
    "    return X                       # TODO: Implement the normalization function\n",
    "\n",
    "\n",
    "def load_data():\n",
    "    # url_hospital = \"https://archive.ics.uci.edu/ml/machine-learning-databases/haberman/haberman.data\"\n",
    "    data = pd.read_csv(\n",
    "        \"haberman.csv\",\n",
    "        header=None,\n",
    "        names=[\"age\", \"year\", \"nodes_detected\", \"survival_status\"],\n",
    "    )\n",
    "    data.head()\n",
    "    X = data.iloc[:, :3].to_numpy()\n",
    "    y = (data.iloc[:, 3] == 1).astype(int)  # Convert survival status to binary\n",
    "    X = Normalize(X)\n",
    "\n",
    "    return X, y"
   ]
  },
  {
   "cell_type": "code",
   "execution_count": 29,
   "metadata": {},
   "outputs": [],
   "source": [
    "# Logistic function\n",
    "def sigmoid(x):\n",
    "    return 1 / (1 + np.exp(-x))       # TODO: Implement the sigmoid function\n",
    "\n",
    "# Negative Log-Likelihood\n",
    "def nll(beta, X, y):\n",
    "    p = sigmoid(np.dot(X, beta))\n",
    "    nll_value = -np.sum(y * np.log(p) + (1 - y) * np.log(1 - p))\n",
    "    return nll_value                  # TODO: Implement NLL function\n",
    "\n",
    "\n",
    "# Gradient of NLL\n",
    "def gradient(beta, X, y):\n",
    "    p = sigmoid(np.dot(X, beta))\n",
    "    gradient_value = np.dot(X.T, (p - y))\n",
    "    return gradient_value     # TODO: Implement the gradient of NLL\n",
    "\n",
    "\n",
    "# Hessian of NLL\n",
    "def hessian(beta, X):\n",
    "    p = sigmoid(np.dot(X, beta))\n",
    "    W = np.diag(p * (1 - p))\n",
    "    hessian_value = np.dot(np.dot(X.T, W), X)\n",
    "    return hessian_value       # TODO: Implement the hessian of NLL"
   ]
  },
  {
   "cell_type": "code",
   "execution_count": 30,
   "metadata": {},
   "outputs": [],
   "source": [
    "# Newton-Raphson optimization\n",
    "def newton_raphson(X, y, tol=1e-6, max_iter=100):   # TODO: Implement the Newton-Raphson optimization\n",
    "    n_features = X.shape[1]\n",
    "    beta = np.zeros(n_features)    \n",
    "\n",
    "    for i in range(max_iter):\n",
    "        grad = gradient(beta, X, y)\n",
    "        hess = hessian(beta, X)\n",
    "\n",
    "        try:\n",
    "            delta = np.linalg.inv(hess).dot(grad)\n",
    "        except np.linalg.LinAlgError:\n",
    "            print(\"Singular matrix, adding small perturbation\")\n",
    "            epsilon = 1e-6\n",
    "            delta = np.linalg.pinv(hess+epsilon*np.eye(hess.shape[0])).dot(grad)\n",
    "        \n",
    "        beta -= delta\n",
    "\n",
    "        if np.linalg.norm(delta) < tol:\n",
    "            print(f\"Converged after {i} iterations\")\n",
    "            return beta\n",
    "    \n",
    "    print(\"Did not converge\")\n",
    "    return beta"
   ]
  },
  {
   "cell_type": "code",
   "execution_count": 31,
   "metadata": {},
   "outputs": [],
   "source": [
    "def predict(X, beta):\n",
    "    X = Normalize(X)\n",
    "    return sigmoid(np.dot(X, beta)) >= 0.5    # TODO: Implement the prediction function\n",
    "    \n",
    "    "
   ]
  },
  {
   "cell_type": "code",
   "execution_count": 32,
   "metadata": {},
   "outputs": [
    {
     "name": "stdout",
     "output_type": "stream",
     "text": [
      "Converged after 4 iterations\n",
      "Newton Raphson Accuracy: 0.69\n",
      "Newton Raphson Precision: 0.73\n",
      "Newton Raphson Recall: 0.91\n",
      "Newton Raphson F1 Score: 0.81\n"
     ]
    }
   ],
   "source": [
    "# Main workflow\n",
    "\n",
    "# Load and preprocess data\n",
    "X, y = load_data()\n",
    "\n",
    "# Split data into training and test sets\n",
    "X_train, X_test, y_train, y_test = train_test_split(\n",
    "    X, y, test_size=0.2, random_state=42\n",
    ")\n",
    "\n",
    "# Train logistic regression model\n",
    "beta = newton_raphson(X_train, y_train)\n",
    "\n",
    "# Predictions and evaluation metrics for Newton Raphson\n",
    "NP_preds = predict(X_test, beta)\n",
    "NP_accuracy = accuracy_score(y_test, NP_preds)\n",
    "NP_precision = precision_score(y_test, NP_preds)\n",
    "NP_recall = recall_score(y_test, NP_preds)\n",
    "NP_f1 = f1_score(y_test, NP_preds)\n",
    "\n",
    "# Print metrics\n",
    "print(f\"Newton Raphson Accuracy: {NP_accuracy:.2f}\")\n",
    "print(f\"Newton Raphson Precision: {NP_precision:.2f}\")\n",
    "print(f\"Newton Raphson Recall: {NP_recall:.2f}\")\n",
    "print(f\"Newton Raphson F1 Score: {NP_f1:.2f}\")\n",
    "\n"
   ]
  },
  {
   "cell_type": "code",
   "execution_count": 33,
   "metadata": {},
   "outputs": [
    {
     "name": "stdout",
     "output_type": "stream",
     "text": [
      "Scikit Learn Accuracy: 0.69\n",
      "Scikit Learn Precision: 0.73\n",
      "Scikit Learn Recall: 0.91\n",
      "Scikit Learn F1 Score: 0.81\n"
     ]
    }
   ],
   "source": [
    "# Train logistic regression model using sklearn\n",
    "logreg = LogisticRegression(fit_intercept=True, solver=\"lbfgs\")\n",
    "logreg.fit(X_train, y_train)\n",
    "\n",
    "# Predictions and evaluation metrics for Scikit Learn\n",
    "SC_preds = logreg.predict(X_test)\n",
    "SC_accuracy = accuracy_score(y_test, SC_preds)\n",
    "SC_precision = precision_score(y_test, SC_preds)\n",
    "SC_recall = recall_score(y_test, SC_preds)\n",
    "SC_f1 = f1_score(y_test, SC_preds)\n",
    "# Print metrics\n",
    "print(f\"Scikit Learn Accuracy: {SC_accuracy:.2f}\")\n",
    "print(f\"Scikit Learn Precision: {SC_precision:.2f}\")\n",
    "print(f\"Scikit Learn Recall: {SC_recall:.2f}\")\n",
    "print(f\"Scikit Learn F1 Score: {SC_f1:.2f}\")"
   ]
  },
  {
   "cell_type": "code",
   "execution_count": 34,
   "metadata": {},
   "outputs": [
    {
     "data": {
      "image/png": "[encoded data removed]",
      "text/plain": [
       "<Figure size 640x480 with 1 Axes>"
      ]
     },
     "metadata": {},
     "output_type": "display_data"
    }
   ],
   "source": [
    "# Plot ROC curve\n",
    "fpr, tpr, _ = roc_curve(y_test, NP_preds)\n",
    "fpr2, tpr2, _ = roc_curve(y_test, SC_preds)\n",
    "roc_auc = auc(fpr, tpr)\n",
    "roc_auc2 = auc(fpr2, tpr2)\n",
    "plt.plot(fpr, tpr, label=f\"Newton Raphson ROC curve (AUC = {roc_auc:.2f})\")\n",
    "plt.plot(fpr2, tpr2, label=f\"Scikit Learn ROC curve (AUC = {roc_auc2:.2f})\")\n",
    "plt.xlabel(\"False Positive Rate\")\n",
    "plt.ylabel(\"True Positive Rate\")\n",
    "plt.title(\"ROC Curve\")\n",
    "plt.legend()\n",
    "plt.show()"
   ]
  },
  {
   "cell_type": "code",
   "execution_count": 35,
   "metadata": {},
   "outputs": [
    {
     "name": "stdout",
     "output_type": "stream",
     "text": [
      "Feature importance:\n",
      "newton: age of patient: 0.0326, part: 17.41%\n",
      "sklearn: age of patient: 0.0332, part: 18.80%\n",
      "=====================================\n",
      "newton: year of operation: 0.0519, part: 27.71%\n",
      "sklearn: year of operation: 0.0405, part: 22.95%\n",
      "=====================================\n",
      "newton: nodes_detected: 0.1028, part: 54.88%\n",
      "sklearn: nodes_detected: 0.1027, part: 58.25%\n",
      "=====================================\n"
     ]
    }
   ],
   "source": [
    "# Feature importance\n",
    "feature_importance = np.abs(beta)\n",
    "feature_importance_sklearn = np.abs(logreg.coef_[0])\n",
    "print(f\"Feature importance:\")\n",
    "for i, feature in enumerate(['age of patient', 'year of operation', 'nodes_detected']):\n",
    "    total_importance = np.sum(feature_importance)\n",
    "    feature_percentage = (feature_importance[i] / total_importance) * 100\n",
    "    print(f\"newton: {feature}: {feature_importance[i]:.4f}, part: {feature_percentage:.2f}%\")\n",
    "\n",
    "    total_importance_sklearn = np.sum(feature_importance_sklearn)\n",
    "    feature_percentage_sklearn = (feature_importance_sklearn[i] / total_importance_sklearn) * 100\n",
    "    print(f\"sklearn: {feature}: {feature_importance_sklearn[i]:.4f}, part: {feature_percentage_sklearn:.2f}%\")\n",
    "    print(\"=====================================\")\n",
    "\n",
    "\n",
    "\n",
    "\n"
   ]
  },
  {
   "cell_type": "code",
   "execution_count": 36,
   "metadata": {},
   "outputs": [],
   "source": [
    "# Gradient of the negative log-posterior\n",
    "def grad_neg_log_posterior(beta, X, y):\n",
    "    p = sigmoid(np.dot(X, beta))\n",
    "    prior_grad = beta  # Assuming a standard normal prior\n",
    "    grad_value = np.dot(X.T, (p - y)) + prior_grad\n",
    "    return grad_value     #TODO: Implement the gradient of Negative log-posterior\n",
    "\n",
    "\n",
    "# Hessian of the negative log-posterior\n",
    "def hessian_neg_log_posterior(beta, X):\n",
    "    p = sigmoid(np.dot(X, beta))\n",
    "    prior_hess = np.eye(X.shape[1])  # Assuming a standard normal prior\n",
    "    hess_value = np.dot(np.dot(X.T, np.diag(p * (1 - p))), X) + prior_hess\n",
    "    return hess_value       # TODO: Implement the hessian of Negative log-posterior\n",
    "\n",
    "# Newton-Raphson optimization\n",
    "def newton_raphson(X, y, tol=1e-6, max_iter=100):   # TODO: Implement the Newton-Raphson optimization\n",
    "    n_features = X.shape[1]\n",
    "    beta = np.zeros(n_features)    \n",
    "\n",
    "    for i in range(max_iter):\n",
    "        grad = grad_neg_log_posterior(beta, X, y)\n",
    "        hess = hessian_neg_log_posterior(beta, X)\n",
    "\n",
    "        try:\n",
    "            delta = np.linalg.inv(hess).dot(grad)\n",
    "        except np.linalg.LinAlgError:\n",
    "            print(\"Singular matrix, adding small perturbation\")\n",
    "            epsilon = 1e-6\n",
    "            delta = np.linalg.pinv(hess+epsilon*np.eye(hess.shape[0])).dot(grad)\n",
    "        \n",
    "        beta -= delta\n",
    "\n",
    "        if np.linalg.norm(delta) < tol:\n",
    "            print(f\"Converged after {i} iterations\")\n",
    "            return beta\n",
    "    \n",
    "    print(\"Did not converge\")\n",
    "    return beta"
   ]
  },
  {
   "cell_type": "code",
   "execution_count": 37,
   "metadata": {},
   "outputs": [
    {
     "name": "stdout",
     "output_type": "stream",
     "text": [
      "Converged after 4 iterations\n",
      "Laplace approximation Accuracy: 0.69\n",
      "Laplace approximation Precision: 0.73\n",
      "Laplace approximation Recall: 0.91\n",
      "Laplace approximation F1 Score: 0.81\n"
     ]
    }
   ],
   "source": [
    "hessian = hessian_neg_log_posterior\n",
    "gradient = grad_neg_log_posterior\n",
    "\n",
    "# Train logistic regression model for Laplace approximation\n",
    "LA_beta = newton_raphson(X_train, y_train)\n",
    "\n",
    "# Predictions and evaluation metrics for Newton Raphson\n",
    "LA_preds = predict(X_test, LA_beta)\n",
    "LA_accuracy = accuracy_score(y_test, LA_preds)\n",
    "LA_precision = precision_score(y_test, LA_preds)\n",
    "LA_recall = recall_score(y_test, LA_preds)\n",
    "LA_f1 = f1_score(y_test, LA_preds)\n",
    "\n",
    "# Print metrics\n",
    "print(f\"Laplace approximation Accuracy: {LA_accuracy:.2f}\")\n",
    "print(f\"Laplace approximation Precision: {LA_precision:.2f}\")\n",
    "print(f\"Laplace approximation Recall: {LA_recall:.2f}\")\n",
    "print(f\"Laplace approximation F1 Score: {LA_f1:.2f}\")"
   ]
  }
 ],
 "metadata": {
  "kernelspec": {
   "display_name": ".venv",
   "language": "python",
   "name": "python3"
  },
  "language_info": {
   "codemirror_mode": {
    "name": "ipython",
    "version": 3
   },
   "file_extension": ".py",
   "mimetype": "text/x-python",
   "name": "python",
   "nbconvert_exporter": "python",
   "pygments_lexer": "ipython3",
   "version": "3.11.1"
  }
 },
 "nbformat": 4,
 "nbformat_minor": 2
}
