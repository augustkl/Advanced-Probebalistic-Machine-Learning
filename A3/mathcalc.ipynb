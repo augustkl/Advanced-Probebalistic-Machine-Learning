{
 "cells": [
  {
   "cell_type": "markdown",
   "metadata": {},
   "source": [
    "Exercise 1"
   ]
  },
  {
   "cell_type": "code",
   "execution_count": 6,
   "metadata": {},
   "outputs": [
    {
     "name": "stdout",
     "output_type": "stream",
     "text": [
      "Probability to get a 5:  37.754066879814545\n"
     ]
    }
   ],
   "source": [
    "import numpy as np\n",
    "\n",
    "beta_zero = -6\n",
    "beta_one = 0.05\n",
    "beta_two = 1\n",
    "x_one = 40\n",
    "x_two = 3.5\n",
    "p1 = np.exp(beta_zero + beta_one*x_one + beta_two*x_two) / (1 + np.exp(beta_zero + beta_one*x_one + beta_two*x_two))\n",
    "print(\"Probability to get a 5: \",p1*100)"
   ]
  },
  {
   "cell_type": "code",
   "execution_count": null,
   "metadata": {},
   "outputs": [],
   "source": []
  }
 ],
 "metadata": {
  "kernelspec": {
   "display_name": "base",
   "language": "python",
   "name": "python3"
  },
  "language_info": {
   "codemirror_mode": {
    "name": "ipython",
    "version": 3
   },
   "file_extension": ".py",
   "mimetype": "text/x-python",
   "name": "python",
   "nbconvert_exporter": "python",
   "pygments_lexer": "ipython3",
   "version": "3.9.7"
  }
 },
 "nbformat": 4,
 "nbformat_minor": 2
}
