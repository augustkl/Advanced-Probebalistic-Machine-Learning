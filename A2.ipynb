{
 "cells": [
  {
   "cell_type": "code",
   "execution_count": 223,
   "metadata": {},
   "outputs": [],
   "source": [
    "import numpy as np             \n",
    "import pandas as pd  #Python Data Analysis Library handle data in a user friendly way\n",
    "import scipy as sc\n",
    "import matplotlib.pyplot as plt #for plots\n",
    "import seaborn as sns # for better plots\n",
    "%matplotlib inline\n",
    "from sklearn import linear_model # A very popular Python library for Machine Learning\n",
    "from sklearn.linear_model import LinearRegression\n",
    "from sklearn.model_selection import train_test_split #needed to for assessing prediction\n",
    "from sklearn import datasets ## imports datasets from scikit-learn\n",
    "import statsmodels.api as sm"
   ]
  },
  {
   "cell_type": "markdown",
   "metadata": {},
   "source": [
    "We will begin with generating data."
   ]
  },
  {
   "cell_type": "code",
   "execution_count": 224,
   "metadata": {},
   "outputs": [
    {
     "data": {
      "image/png": "[encoded data removed]",
      "text/plain": [
       "<Figure size 640x480 with 1 Axes>"
      ]
     },
     "metadata": {},
     "output_type": "display_data"
    }
   ],
   "source": [
    "#Polynomial fitting exercises\n",
    "np.random.seed(1)\n",
    "n = 20 #number of points\n",
    "x = np.linspace(0, 1, n)\n",
    "f = np.sin(2*np.pi*x)\n",
    "y = f+0.3*np.random.randn(n)\n",
    "#plt.plot(xg,f,label='true process')\n",
    "plt.plot(x,y,'o',label='data')\n",
    "plt.plot(x,f,label='true process')\n",
    "plt.legend()\n",
    "plt.show()"
   ]
  },
  {
   "cell_type": "markdown",
   "metadata": {},
   "source": [
    "We put x,y into the pandas dataframe called data. Also put a vector of ones as x0."
   ]
  },
  {
   "cell_type": "code",
   "execution_count": 225,
   "metadata": {},
   "outputs": [
    {
     "data": {
      "text/html": [
       "<div>\n",
       "<style scoped>\n",
       "    .dataframe tbody tr th:only-of-type {\n",
       "        vertical-align: middle;\n",
       "    }\n",
       "\n",
       "    .dataframe tbody tr th {\n",
       "        vertical-align: top;\n",
       "    }\n",
       "\n",
       "    .dataframe thead th {\n",
       "        text-align: right;\n",
       "    }\n",
       "</style>\n",
       "<table border=\"1\" class=\"dataframe\">\n",
       "  <thead>\n",
       "    <tr style=\"text-align: right;\">\n",
       "      <th></th>\n",
       "      <th>y</th>\n",
       "      <th>x0</th>\n",
       "      <th>x</th>\n",
       "      <th>x2</th>\n",
       "      <th>x3</th>\n",
       "      <th>x4</th>\n",
       "      <th>x5</th>\n",
       "      <th>x6</th>\n",
       "      <th>x7</th>\n",
       "      <th>x8</th>\n",
       "      <th>x9</th>\n",
       "      <th>x10</th>\n",
       "    </tr>\n",
       "  </thead>\n",
       "  <tbody>\n",
       "    <tr>\n",
       "      <th>0</th>\n",
       "      <td>0.487304</td>\n",
       "      <td>1.0</td>\n",
       "      <td>0.000000</td>\n",
       "      <td>0.000000</td>\n",
       "      <td>0.000000</td>\n",
       "      <td>0.000000</td>\n",
       "      <td>0.000000e+00</td>\n",
       "      <td>0.000000e+00</td>\n",
       "      <td>0.000000e+00</td>\n",
       "      <td>0.000000e+00</td>\n",
       "      <td>0.000000e+00</td>\n",
       "      <td>0.000000e+00</td>\n",
       "    </tr>\n",
       "    <tr>\n",
       "      <th>1</th>\n",
       "      <td>0.141173</td>\n",
       "      <td>1.0</td>\n",
       "      <td>0.052632</td>\n",
       "      <td>0.002770</td>\n",
       "      <td>0.000146</td>\n",
       "      <td>0.000008</td>\n",
       "      <td>4.038611e-07</td>\n",
       "      <td>2.125585e-08</td>\n",
       "      <td>1.118729e-09</td>\n",
       "      <td>5.888046e-11</td>\n",
       "      <td>3.098972e-12</td>\n",
       "      <td>1.631038e-13</td>\n",
       "    </tr>\n",
       "    <tr>\n",
       "      <th>2</th>\n",
       "      <td>0.455761</td>\n",
       "      <td>1.0</td>\n",
       "      <td>0.105263</td>\n",
       "      <td>0.011080</td>\n",
       "      <td>0.001166</td>\n",
       "      <td>0.000123</td>\n",
       "      <td>1.292355e-05</td>\n",
       "      <td>1.360374e-06</td>\n",
       "      <td>1.431973e-07</td>\n",
       "      <td>1.507340e-08</td>\n",
       "      <td>1.586673e-09</td>\n",
       "      <td>1.670183e-10</td>\n",
       "    </tr>\n",
       "    <tr>\n",
       "      <th>3</th>\n",
       "      <td>0.515276</td>\n",
       "      <td>1.0</td>\n",
       "      <td>0.157895</td>\n",
       "      <td>0.024931</td>\n",
       "      <td>0.003936</td>\n",
       "      <td>0.000622</td>\n",
       "      <td>9.813824e-05</td>\n",
       "      <td>1.549551e-05</td>\n",
       "      <td>2.446660e-06</td>\n",
       "      <td>3.863147e-07</td>\n",
       "      <td>6.099706e-08</td>\n",
       "      <td>9.631114e-09</td>\n",
       "    </tr>\n",
       "    <tr>\n",
       "      <th>4</th>\n",
       "      <td>1.229023</td>\n",
       "      <td>1.0</td>\n",
       "      <td>0.210526</td>\n",
       "      <td>0.044321</td>\n",
       "      <td>0.009331</td>\n",
       "      <td>0.001964</td>\n",
       "      <td>4.135537e-04</td>\n",
       "      <td>8.706395e-05</td>\n",
       "      <td>1.832925e-05</td>\n",
       "      <td>3.858790e-06</td>\n",
       "      <td>8.123768e-07</td>\n",
       "      <td>1.710267e-07</td>\n",
       "    </tr>\n",
       "  </tbody>\n",
       "</table>\n",
       "</div>"
      ],
      "text/plain": [
       "          y   x0         x        x2        x3        x4            x5  \\\n",
       "0  0.487304  1.0  0.000000  0.000000  0.000000  0.000000  0.000000e+00   \n",
       "1  0.141173  1.0  0.052632  0.002770  0.000146  0.000008  4.038611e-07   \n",
       "2  0.455761  1.0  0.105263  0.011080  0.001166  0.000123  1.292355e-05   \n",
       "3  0.515276  1.0  0.157895  0.024931  0.003936  0.000622  9.813824e-05   \n",
       "4  1.229023  1.0  0.210526  0.044321  0.009331  0.001964  4.135537e-04   \n",
       "\n",
       "             x6            x7            x8            x9           x10  \n",
       "0  0.000000e+00  0.000000e+00  0.000000e+00  0.000000e+00  0.000000e+00  \n",
       "1  2.125585e-08  1.118729e-09  5.888046e-11  3.098972e-12  1.631038e-13  \n",
       "2  1.360374e-06  1.431973e-07  1.507340e-08  1.586673e-09  1.670183e-10  \n",
       "3  1.549551e-05  2.446660e-06  3.863147e-07  6.099706e-08  9.631114e-09  \n",
       "4  8.706395e-05  1.832925e-05  3.858790e-06  8.123768e-07  1.710267e-07  "
      ]
     },
     "execution_count": 225,
     "metadata": {},
     "output_type": "execute_result"
    }
   ],
   "source": [
    "x0 = np.ones(n)\n",
    "data = pd.DataFrame(np.column_stack([y,x0,x]),columns=['y','x0','x']) \n",
    "#Expand the data including powers of x up to 10\n",
    "for i in range(2,11):  #executes the following indented commands for i varying from 3 to 9\n",
    "    colname = 'x%d'%i # the %d %i puts a different number in the name of each variable\n",
    "    data[colname] = data['x']**i #raise to the power of i\n",
    "    # the for loop continues until the first time a command is not indented.\n",
    "data.head()"
   ]
  },
  {
   "cell_type": "code",
   "execution_count": 226,
   "metadata": {},
   "outputs": [
    {
     "data": {
      "text/plain": [
       "<matplotlib.legend.Legend at 0x17c418451f0>"
      ]
     },
     "execution_count": 226,
     "metadata": {},
     "output_type": "execute_result"
    },
    {
     "data": {
      "image/png": "[encoded data removed]",
      "text/plain": [
       "<Figure size 640x480 with 1 Axes>"
      ]
     },
     "metadata": {},
     "output_type": "display_data"
    }
   ],
   "source": [
    "npower = 2\n",
    "predictors = ['x']\n",
    "predictors.extend(['x%d'%i for i in range(2,npower+1)])\n",
    "linreg = LinearRegression(fit_intercept=True)\n",
    "linreg.fit(data[predictors],data['y'])\n",
    "y_pred = linreg.predict(data[predictors])\n",
    "plt.plot(data['x'],y_pred, label='LS fit')\n",
    "plt.plot(data['x'],data['y'],'o',label='data')\n",
    "plt.plot(x,f,label='true process')\n",
    "plt.title('Plot for power: %d'%npower)\n",
    "plt.legend()"
   ]
  },
  {
   "cell_type": "markdown",
   "metadata": {},
   "source": [
    "### Matrix operations\n",
    "\n",
    "Below we find the MLE without the scikit linear regression function. For that we\n",
    "\n",
    "1. Form the design matrix $X$ and the response vector y\n",
    "2. Calculate the MLE as $$\\hat{\\beta} = (X^T X)^{-1}X^T y$$\n",
    "\n",
    "The code below does that and also prints $X^T X$ and $(X^T X)^{-1}$ for checking."
   ]
  },
  {
   "cell_type": "code",
   "execution_count": 227,
   "metadata": {},
   "outputs": [
    {
     "data": {
      "text/plain": [
       "(           x0          x        x2\n",
       " x0  20.000000  10.000000  6.842105\n",
       " x   10.000000   6.842105  5.263158\n",
       " x2   6.842105   5.263158  4.317539,\n",
       " array([[ 0.37077922, -1.44350649,  1.17207792],\n",
       "        [-1.44350649,  7.96601732, -7.42316017],\n",
       "        [ 1.17207792, -7.42316017,  7.42316017]]),\n",
       " array([ 0.88516511, -2.23262046,  0.55870444]))"
      ]
     },
     "execution_count": 227,
     "metadata": {},
     "output_type": "execute_result"
    }
   ],
   "source": [
    "npower = 2\n",
    "predictors = ['x0','x']\n",
    "predictors.extend(['x%d'%i for i in range(2,npower+1)])\n",
    "X = data[predictors]\n",
    "y = data['y']\n",
    "XtX = X.T.dot(X) #X.T give X transpose X.dot(b) does matrix multiplication X*b\n",
    "XtX_inv = sc.linalg.inv(XtX) #sc.linalg.inv(A) provide the inverse of A\n",
    "beta = XtX_inv.dot(X.T.dot(y))\n",
    "XtX, XtX_inv, beta"
   ]
  },
  {
   "cell_type": "markdown",
   "metadata": {},
   "source": [
    "Check the $\\beta$ you found with the scikit function:"
   ]
  },
  {
   "cell_type": "code",
   "execution_count": 228,
   "metadata": {},
   "outputs": [
    {
     "name": "stdout",
     "output_type": "stream",
     "text": [
      "Beta:  0.8851651079530483 [-2.23262046  0.55870444]\n"
     ]
    }
   ],
   "source": [
    "print('Beta: ', linreg.intercept_, linreg.coef_)"
   ]
  },
  {
   "cell_type": "markdown",
   "metadata": {},
   "source": [
    "We can go beyond the point estimate and calculate the variance of $\\hat{\\beta}$.\n",
    "\n",
    "The code below provides $\\hat{\\sigma}^2$, the covariance matrix $\\mbox{var}[\\hat{\\beta}] = \\hat{\\sigma}^2 (X^T X)^{-1}$,\n",
    "and its diagonal."
   ]
  },
  {
   "cell_type": "code",
   "execution_count": 229,
   "metadata": {},
   "outputs": [
    {
     "data": {
      "text/plain": [
       "(0.3881246982512338,\n",
       " array([[ 0.14390857, -0.56026052,  0.45491239],\n",
       "        [-0.56026052,  3.09180807, -2.8811118 ],\n",
       "        [ 0.45491239, -2.8811118 ,  2.8811118 ]]),\n",
       " array([0.14390857, 3.09180807, 2.8811118 ]))"
      ]
     },
     "execution_count": 229,
     "metadata": {},
     "output_type": "execute_result"
    }
   ],
   "source": [
    "n,p = X.shape\n",
    "e = y - X.dot(beta)# beta is your derived MLE coefficents in the previous cells\n",
    "sigma2_hat = e.T.dot(e)/(n-p)\n",
    "var_beta = sigma2_hat*(sc.linalg.inv(X.T.dot(X)))\n",
    "sigma2_hat, var_beta, np.diag(var_beta)"
   ]
  },
  {
   "cell_type": "markdown",
   "metadata": {},
   "source": [
    "With the above quantities we can calculate confidence intervals for MLE's. For those we will need the 97.5\\% point of the $t_{n-p}$ distribution. \n",
    "\n",
    "The following code does that and also puts the results in pandas dataframe."
   ]
  },
  {
   "cell_type": "code",
   "execution_count": 230,
   "metadata": {},
   "outputs": [
    {
     "data": {
      "text/html": [
       "<div>\n",
       "<style scoped>\n",
       "    .dataframe tbody tr th:only-of-type {\n",
       "        vertical-align: middle;\n",
       "    }\n",
       "\n",
       "    .dataframe tbody tr th {\n",
       "        vertical-align: top;\n",
       "    }\n",
       "\n",
       "    .dataframe thead th {\n",
       "        text-align: right;\n",
       "    }\n",
       "</style>\n",
       "<table border=\"1\" class=\"dataframe\">\n",
       "  <thead>\n",
       "    <tr style=\"text-align: right;\">\n",
       "      <th></th>\n",
       "      <th>coefficient</th>\n",
       "      <th>se</th>\n",
       "      <th>lower 95% bound</th>\n",
       "      <th>upper 95% bound</th>\n",
       "    </tr>\n",
       "  </thead>\n",
       "  <tbody>\n",
       "    <tr>\n",
       "      <th>intercept</th>\n",
       "      <td>0.885165</td>\n",
       "      <td>0.379353</td>\n",
       "      <td>0.084801</td>\n",
       "      <td>1.685530</td>\n",
       "    </tr>\n",
       "    <tr>\n",
       "      <th>x</th>\n",
       "      <td>-2.232620</td>\n",
       "      <td>1.758354</td>\n",
       "      <td>-5.942423</td>\n",
       "      <td>1.477182</td>\n",
       "    </tr>\n",
       "    <tr>\n",
       "      <th>x2</th>\n",
       "      <td>0.558704</td>\n",
       "      <td>1.697384</td>\n",
       "      <td>-3.022462</td>\n",
       "      <td>4.139871</td>\n",
       "    </tr>\n",
       "  </tbody>\n",
       "</table>\n",
       "</div>"
      ],
      "text/plain": [
       "           coefficient        se  lower 95% bound  upper 95% bound\n",
       "intercept     0.885165  0.379353         0.084801         1.685530\n",
       "x            -2.232620  1.758354        -5.942423         1.477182\n",
       "x2            0.558704  1.697384        -3.022462         4.139871"
      ]
     },
     "execution_count": 230,
     "metadata": {},
     "output_type": "execute_result"
    }
   ],
   "source": [
    "#calculate 97.5% CI for beta and present output via a pandas data frame \n",
    "tval = sc.stats.t.ppf(0.975,n-p)\n",
    "std_beta = np.sqrt(np.diag(var_beta))\n",
    "lower95 = beta - tval*std_beta\n",
    "upper95 = beta + tval*std_beta\n",
    "results = np.column_stack([beta,std_beta,lower95,upper95])\n",
    "col = ['coefficient','se','lower 95% bound','upper 95% bound']\n",
    "ind = ['intercept','x','x2']\n",
    "results = pd.DataFrame(results,columns = col,index=ind)\n",
    "results"
   ]
  },
  {
   "cell_type": "markdown",
   "metadata": {},
   "source": [
    "To check our answers we also use the relevant function (.OLS) of the library **statsmodels**  "
   ]
  },
  {
   "cell_type": "code",
   "execution_count": 231,
   "metadata": {},
   "outputs": [
    {
     "name": "stderr",
     "output_type": "stream",
     "text": [
      "c:\\Users\\augus\\anaconda3\\lib\\site-packages\\statsmodels\\tsa\\tsatools.py:142: FutureWarning: In a future version of pandas all arguments of concat except for the argument 'objs' will be keyword-only\n",
      "  x = pd.concat(x[::order], 1)\n"
     ]
    },
    {
     "data": {
      "text/html": [
       "<table class=\"simpletable\">\n",
       "<caption>OLS Regression Results</caption>\n",
       "<tr>\n",
       "  <th>Dep. Variable:</th>            <td>y</td>        <th>  R-squared:         </th> <td>   0.441</td>\n",
       "</tr>\n",
       "<tr>\n",
       "  <th>Model:</th>                   <td>OLS</td>       <th>  Adj. R-squared:    </th> <td>   0.375</td>\n",
       "</tr>\n",
       "<tr>\n",
       "  <th>Method:</th>             <td>Least Squares</td>  <th>  F-statistic:       </th> <td>   6.704</td>\n",
       "</tr>\n",
       "<tr>\n",
       "  <th>Date:</th>             <td>Wed, 20 Nov 2024</td> <th>  Prob (F-statistic):</th>  <td>0.00714</td>\n",
       "</tr>\n",
       "<tr>\n",
       "  <th>Time:</th>                 <td>17:17:41</td>     <th>  Log-Likelihood:    </th> <td> -17.289</td>\n",
       "</tr>\n",
       "<tr>\n",
       "  <th>No. Observations:</th>      <td>    20</td>      <th>  AIC:               </th> <td>   40.58</td>\n",
       "</tr>\n",
       "<tr>\n",
       "  <th>Df Residuals:</th>          <td>    17</td>      <th>  BIC:               </th> <td>   43.57</td>\n",
       "</tr>\n",
       "<tr>\n",
       "  <th>Df Model:</th>              <td>     2</td>      <th>                     </th>     <td> </td>   \n",
       "</tr>\n",
       "<tr>\n",
       "  <th>Covariance Type:</th>      <td>nonrobust</td>    <th>                     </th>     <td> </td>   \n",
       "</tr>\n",
       "</table>\n",
       "<table class=\"simpletable\">\n",
       "<tr>\n",
       "    <td></td>       <th>coef</th>     <th>std err</th>      <th>t</th>      <th>P>|t|</th>  <th>[0.025</th>    <th>0.975]</th>  \n",
       "</tr>\n",
       "<tr>\n",
       "  <th>const</th> <td>    0.8852</td> <td>    0.379</td> <td>    2.333</td> <td> 0.032</td> <td>    0.085</td> <td>    1.686</td>\n",
       "</tr>\n",
       "<tr>\n",
       "  <th>x</th>     <td>   -2.2326</td> <td>    1.758</td> <td>   -1.270</td> <td> 0.221</td> <td>   -5.942</td> <td>    1.477</td>\n",
       "</tr>\n",
       "<tr>\n",
       "  <th>x2</th>    <td>    0.5587</td> <td>    1.697</td> <td>    0.329</td> <td> 0.746</td> <td>   -3.022</td> <td>    4.140</td>\n",
       "</tr>\n",
       "</table>\n",
       "<table class=\"simpletable\">\n",
       "<tr>\n",
       "  <th>Omnibus:</th>       <td> 1.146</td> <th>  Durbin-Watson:     </th> <td>   1.109</td>\n",
       "</tr>\n",
       "<tr>\n",
       "  <th>Prob(Omnibus):</th> <td> 0.564</td> <th>  Jarque-Bera (JB):  </th> <td>   1.040</td>\n",
       "</tr>\n",
       "<tr>\n",
       "  <th>Skew:</th>          <td> 0.412</td> <th>  Prob(JB):          </th> <td>   0.595</td>\n",
       "</tr>\n",
       "<tr>\n",
       "  <th>Kurtosis:</th>      <td> 2.245</td> <th>  Cond. No.          </th> <td>    20.9</td>\n",
       "</tr>\n",
       "</table><br/><br/>Notes:<br/>[1] Standard Errors assume that the covariance matrix of the errors is correctly specified."
      ],
      "text/plain": [
       "<class 'statsmodels.iolib.summary.Summary'>\n",
       "\"\"\"\n",
       "                            OLS Regression Results                            \n",
       "==============================================================================\n",
       "Dep. Variable:                      y   R-squared:                       0.441\n",
       "Model:                            OLS   Adj. R-squared:                  0.375\n",
       "Method:                 Least Squares   F-statistic:                     6.704\n",
       "Date:                Wed, 20 Nov 2024   Prob (F-statistic):            0.00714\n",
       "Time:                        17:17:41   Log-Likelihood:                -17.289\n",
       "No. Observations:                  20   AIC:                             40.58\n",
       "Df Residuals:                      17   BIC:                             43.57\n",
       "Df Model:                           2                                         \n",
       "Covariance Type:            nonrobust                                         \n",
       "==============================================================================\n",
       "                 coef    std err          t      P>|t|      [0.025      0.975]\n",
       "------------------------------------------------------------------------------\n",
       "const          0.8852      0.379      2.333      0.032       0.085       1.686\n",
       "x             -2.2326      1.758     -1.270      0.221      -5.942       1.477\n",
       "x2             0.5587      1.697      0.329      0.746      -3.022       4.140\n",
       "==============================================================================\n",
       "Omnibus:                        1.146   Durbin-Watson:                   1.109\n",
       "Prob(Omnibus):                  0.564   Jarque-Bera (JB):                1.040\n",
       "Skew:                           0.412   Prob(JB):                        0.595\n",
       "Kurtosis:                       2.245   Cond. No.                         20.9\n",
       "==============================================================================\n",
       "\n",
       "Notes:\n",
       "[1] Standard Errors assume that the covariance matrix of the errors is correctly specified.\n",
       "\"\"\""
      ]
     },
     "execution_count": 231,
     "metadata": {},
     "output_type": "execute_result"
    }
   ],
   "source": [
    "Poly = ['x','x2']\n",
    "X = data[Poly]\n",
    "X = sm.add_constant(X) \n",
    "model = sm.OLS(y, X).fit()\n",
    "model.summary()"
   ]
  },
  {
   "cell_type": "markdown",
   "metadata": {},
   "source": [
    "In the following cells:\n",
    "1. Obtain the MLEs and 97.5\\% confidence intervals for the 3rd order polynomial without using the scikit function.\n",
    "2. Check your answers against the statsmodels corresponding function (.OLS)"
   ]
  },
  {
   "cell_type": "code",
   "execution_count": 232,
   "metadata": {},
   "outputs": [
    {
     "data": {
      "text/html": [
       "<div>\n",
       "<style scoped>\n",
       "    .dataframe tbody tr th:only-of-type {\n",
       "        vertical-align: middle;\n",
       "    }\n",
       "\n",
       "    .dataframe tbody tr th {\n",
       "        vertical-align: top;\n",
       "    }\n",
       "\n",
       "    .dataframe thead th {\n",
       "        text-align: right;\n",
       "    }\n",
       "</style>\n",
       "<table border=\"1\" class=\"dataframe\">\n",
       "  <thead>\n",
       "    <tr style=\"text-align: right;\">\n",
       "      <th></th>\n",
       "      <th>coefficient</th>\n",
       "      <th>se</th>\n",
       "      <th>lower 97.5% bound</th>\n",
       "      <th>upper 97.5% bound</th>\n",
       "    </tr>\n",
       "  </thead>\n",
       "  <tbody>\n",
       "    <tr>\n",
       "      <th>intercept</th>\n",
       "      <td>-0.010460</td>\n",
       "      <td>0.290987</td>\n",
       "      <td>-0.627324</td>\n",
       "      <td>0.606404</td>\n",
       "    </tr>\n",
       "    <tr>\n",
       "      <th>x</th>\n",
       "      <td>10.124663</td>\n",
       "      <td>2.586393</td>\n",
       "      <td>4.641755</td>\n",
       "      <td>15.607572</td>\n",
       "    </tr>\n",
       "    <tr>\n",
       "      <th>x2</th>\n",
       "      <td>-31.139397</td>\n",
       "      <td>6.102501</td>\n",
       "      <td>-44.076122</td>\n",
       "      <td>-18.202672</td>\n",
       "    </tr>\n",
       "    <tr>\n",
       "      <th>x3</th>\n",
       "      <td>21.132068</td>\n",
       "      <td>4.006810</td>\n",
       "      <td>12.638011</td>\n",
       "      <td>29.626125</td>\n",
       "    </tr>\n",
       "  </tbody>\n",
       "</table>\n",
       "</div>"
      ],
      "text/plain": [
       "           coefficient        se  lower 97.5% bound  upper 97.5% bound\n",
       "intercept    -0.010460  0.290987          -0.627324           0.606404\n",
       "x            10.124663  2.586393           4.641755          15.607572\n",
       "x2          -31.139397  6.102501         -44.076122         -18.202672\n",
       "x3           21.132068  4.006810          12.638011          29.626125"
      ]
     },
     "execution_count": 232,
     "metadata": {},
     "output_type": "execute_result"
    }
   ],
   "source": [
    "npower = 3\n",
    "predictors = ['x0','x', ]\n",
    "predictors.extend(['x%d'%i for i in range(2,npower+1)])\n",
    "X = data[predictors]\n",
    "y = data['y']\n",
    "XtX = X.T.dot(X) #X.T give X transpose X.dot(b) does matrix multiplication X*b\n",
    "XtX_inv = sc.linalg.inv(XtX) #sc.linalg.inv(A) provide the inverse of A\n",
    "beta = XtX_inv.dot(X.T.dot(y))\n",
    "XtX, XtX_inv, beta\n",
    "\n",
    "n,p = X.shape\n",
    "e = y - X.dot(beta)# beta is your derived MLE coefficents in the previous cells\n",
    "sigma2_hat = e.T.dot(e)/(n-p)\n",
    "var_beta = sigma2_hat*(sc.linalg.inv(X.T.dot(X)))\n",
    "sigma2_hat, var_beta, np.diag(var_beta)\n",
    "\n",
    "# calculate 97.5% CI for beta and present output via a pandas data frame \n",
    "tval = sc.stats.t.ppf(0.975,n-p)\n",
    "std_beta = np.sqrt(np.diag(var_beta))\n",
    "lower975 = beta - tval*std_beta\n",
    "upper975 = beta + tval*std_beta\n",
    "results = np.column_stack([beta,std_beta,lower975,upper975])\n",
    "col = ['coefficient','se','lower 97.5% bound','upper 97.5% bound']\n",
    "ind = ['intercept','x','x2','x3']\n",
    "results = pd.DataFrame(results,columns = col,index=ind)\n",
    "results"
   ]
  },
  {
   "cell_type": "code",
   "execution_count": 233,
   "metadata": {},
   "outputs": [
    {
     "name": "stderr",
     "output_type": "stream",
     "text": [
      "c:\\Users\\augus\\anaconda3\\lib\\site-packages\\statsmodels\\tsa\\tsatools.py:142: FutureWarning: In a future version of pandas all arguments of concat except for the argument 'objs' will be keyword-only\n",
      "  x = pd.concat(x[::order], 1)\n"
     ]
    },
    {
     "data": {
      "text/html": [
       "<table class=\"simpletable\">\n",
       "<caption>OLS Regression Results</caption>\n",
       "<tr>\n",
       "  <th>Dep. Variable:</th>            <td>y</td>        <th>  R-squared:         </th> <td>   0.796</td>\n",
       "</tr>\n",
       "<tr>\n",
       "  <th>Model:</th>                   <td>OLS</td>       <th>  Adj. R-squared:    </th> <td>   0.758</td>\n",
       "</tr>\n",
       "<tr>\n",
       "  <th>Method:</th>             <td>Least Squares</td>  <th>  F-statistic:       </th> <td>   20.79</td>\n",
       "</tr>\n",
       "<tr>\n",
       "  <th>Date:</th>             <td>Wed, 20 Nov 2024</td> <th>  Prob (F-statistic):</th> <td>9.12e-06</td>\n",
       "</tr>\n",
       "<tr>\n",
       "  <th>Time:</th>                 <td>17:17:41</td>     <th>  Log-Likelihood:    </th> <td> -7.2153</td>\n",
       "</tr>\n",
       "<tr>\n",
       "  <th>No. Observations:</th>      <td>    20</td>      <th>  AIC:               </th> <td>   22.43</td>\n",
       "</tr>\n",
       "<tr>\n",
       "  <th>Df Residuals:</th>          <td>    16</td>      <th>  BIC:               </th> <td>   26.41</td>\n",
       "</tr>\n",
       "<tr>\n",
       "  <th>Df Model:</th>              <td>     3</td>      <th>                     </th>     <td> </td>   \n",
       "</tr>\n",
       "<tr>\n",
       "  <th>Covariance Type:</th>      <td>nonrobust</td>    <th>                     </th>     <td> </td>   \n",
       "</tr>\n",
       "</table>\n",
       "<table class=\"simpletable\">\n",
       "<tr>\n",
       "    <td></td>       <th>coef</th>     <th>std err</th>      <th>t</th>      <th>P>|t|</th>  <th>[0.025</th>    <th>0.975]</th>  \n",
       "</tr>\n",
       "<tr>\n",
       "  <th>const</th> <td>   -0.0105</td> <td>    0.291</td> <td>   -0.036</td> <td> 0.972</td> <td>   -0.627</td> <td>    0.606</td>\n",
       "</tr>\n",
       "<tr>\n",
       "  <th>x</th>     <td>   10.1247</td> <td>    2.586</td> <td>    3.915</td> <td> 0.001</td> <td>    4.642</td> <td>   15.608</td>\n",
       "</tr>\n",
       "<tr>\n",
       "  <th>x2</th>    <td>  -31.1394</td> <td>    6.103</td> <td>   -5.103</td> <td> 0.000</td> <td>  -44.076</td> <td>  -18.203</td>\n",
       "</tr>\n",
       "<tr>\n",
       "  <th>x3</th>    <td>   21.1321</td> <td>    4.007</td> <td>    5.274</td> <td> 0.000</td> <td>   12.638</td> <td>   29.626</td>\n",
       "</tr>\n",
       "</table>\n",
       "<table class=\"simpletable\">\n",
       "<tr>\n",
       "  <th>Omnibus:</th>       <td> 0.301</td> <th>  Durbin-Watson:     </th> <td>   2.750</td>\n",
       "</tr>\n",
       "<tr>\n",
       "  <th>Prob(Omnibus):</th> <td> 0.860</td> <th>  Jarque-Bera (JB):  </th> <td>   0.470</td>\n",
       "</tr>\n",
       "<tr>\n",
       "  <th>Skew:</th>          <td> 0.142</td> <th>  Prob(JB):          </th> <td>   0.790</td>\n",
       "</tr>\n",
       "<tr>\n",
       "  <th>Kurtosis:</th>      <td> 2.305</td> <th>  Cond. No.          </th> <td>    109.</td>\n",
       "</tr>\n",
       "</table><br/><br/>Notes:<br/>[1] Standard Errors assume that the covariance matrix of the errors is correctly specified."
      ],
      "text/plain": [
       "<class 'statsmodels.iolib.summary.Summary'>\n",
       "\"\"\"\n",
       "                            OLS Regression Results                            \n",
       "==============================================================================\n",
       "Dep. Variable:                      y   R-squared:                       0.796\n",
       "Model:                            OLS   Adj. R-squared:                  0.758\n",
       "Method:                 Least Squares   F-statistic:                     20.79\n",
       "Date:                Wed, 20 Nov 2024   Prob (F-statistic):           9.12e-06\n",
       "Time:                        17:17:41   Log-Likelihood:                -7.2153\n",
       "No. Observations:                  20   AIC:                             22.43\n",
       "Df Residuals:                      16   BIC:                             26.41\n",
       "Df Model:                           3                                         \n",
       "Covariance Type:            nonrobust                                         \n",
       "==============================================================================\n",
       "                 coef    std err          t      P>|t|      [0.025      0.975]\n",
       "------------------------------------------------------------------------------\n",
       "const         -0.0105      0.291     -0.036      0.972      -0.627       0.606\n",
       "x             10.1247      2.586      3.915      0.001       4.642      15.608\n",
       "x2           -31.1394      6.103     -5.103      0.000     -44.076     -18.203\n",
       "x3            21.1321      4.007      5.274      0.000      12.638      29.626\n",
       "==============================================================================\n",
       "Omnibus:                        0.301   Durbin-Watson:                   2.750\n",
       "Prob(Omnibus):                  0.860   Jarque-Bera (JB):                0.470\n",
       "Skew:                           0.142   Prob(JB):                        0.790\n",
       "Kurtosis:                       2.305   Cond. No.                         109.\n",
       "==============================================================================\n",
       "\n",
       "Notes:\n",
       "[1] Standard Errors assume that the covariance matrix of the errors is correctly specified.\n",
       "\"\"\""
      ]
     },
     "execution_count": 233,
     "metadata": {},
     "output_type": "execute_result"
    }
   ],
   "source": [
    "Poly = ['x','x2','x3']\n",
    "X = data[Poly]\n",
    "X = sm.add_constant(X) \n",
    "model = sm.OLS(y, X).fit()\n",
    "model.summary()"
   ]
  },
  {
   "cell_type": "markdown",
   "metadata": {},
   "source": [
    "We will now put all the previous talk into a function. In other words we will create our own function rather than using the stasmodels/scikit learn ones. \n",
    "\n",
    "The inputs of the function will be $X$, $y$ and the names of the predictors. The output will be a data frame with the results (MLE's, se's and 95\\% CI's).\n",
    "\n",
    "Write this function  below."
   ]
  },
  {
   "cell_type": "code",
   "execution_count": 234,
   "metadata": {},
   "outputs": [
    {
     "name": "stdout",
     "output_type": "stream",
     "text": [
      "   coefficient        se  lower 0.95% bound  upper 0.95% bound\n",
      "0    -0.010460  0.290987          -0.627324           0.606404\n",
      "1    10.124663  2.586393           4.641755          15.607572\n",
      "2   -31.139397  6.102501         -44.076122         -18.202672\n",
      "3    21.132068  4.006810          12.638011          29.626125\n"
     ]
    }
   ],
   "source": [
    "def my_function(X, Y, predictors, conf_level = 0.95):\n",
    "    n_power = len(predictors) -1\n",
    "    beta = sc.linalg.inv(X.T.dot(X)).dot(X.T.dot(y))\n",
    "\n",
    "    # beta = np.linalg.inv(X.T @ X) @ X.T @ Y\n",
    "    e = Y - X.dot(beta)\n",
    "\n",
    "    n, p = X.shape\n",
    "    sigma2_hat = e.T.dot(e) / (n - p)\n",
    "    var_beta = sigma2_hat * np.linalg.inv(X.T @ X)\n",
    "    \n",
    "    tval = sc.stats.t.ppf(0.975, n-p)\n",
    "    std_beta = np.sqrt(np.diag(var_beta))\n",
    "    lower_conf = beta - tval*std_beta\n",
    "    upper_conf = beta + tval*std_beta\n",
    "    results = np.column_stack([beta,std_beta,lower_conf,upper_conf])\n",
    "    col = ['coefficient','se',f'lower {conf_level}% bound',f'upper {conf_level}% bound']\n",
    "    ind = ['intercept'].append(predictors)\n",
    "    results = pd.DataFrame(results,columns = col,index=ind)\n",
    "\n",
    "    return results\n",
    "\n",
    "predictors = data.columns[1:5]\n",
    "X = data[predictors]\n",
    "Y = data['y']\n",
    "\n",
    "my_results = my_function(X, Y, predictors)\n",
    "print(my_results)"
   ]
  },
  {
   "cell_type": "markdown",
   "metadata": {},
   "source": [
    "### Bayesian Linear Regression\n",
    "\n",
    "We now turn to Bayesian inference. As before we will illustrate and then create a function that provides summaries of the posterior (Bayes estimates of $\\beta$ and 95\\% Credible Intervals).\n",
    "\n",
    "We start by calculating the posterior parameters that correspond to the unit information prior.\n",
    "\n",
    "Given $\\sigma^2$ and a **prior** of N($\\mu_0,\\sigma^2\\Omega_0)$, the **posterior** $\\pi(\\beta|X,y,\\sigma^2)$ is N($\\mu_n,\\sigma^2\\Omega_n^2$) where\n",
    "\n",
    "$$\\mu_n = (X^T X+\\Omega_0^{-1})^{-1} (\\Omega_0^{-1}\\mu_0 +X^{T}y)$$\n",
    "$$\\Omega_n =(X^T X +\\Omega_0^{-1})^{-1}$$\n",
    "\n",
    "To assign the unit information prior we set $\\Omega_0 = n(X^T X)^{-1}$ or else $\\Omega_0^{-1}=X^T X / n$.\n",
    "\n",
    "For $\\sigma^2$ if we set the **prior** $\\Gamma(a_0,b_0)$ we get the **posterior** $\\Gamma(a_n,b_n)$ where\n",
    "$$\n",
    "a_n = a_0+\\frac{n}{2}\n",
    "$$\n",
    "$$\n",
    "b_n = b_0+\\frac{1}{2} (y^T y + \\mu_0^T\\Omega_0^{-1}\\mu_0 -\\mu_n^T\\Omega_n^{-1}\\mu_n).\n",
    "$$"
   ]
  },
  {
   "cell_type": "markdown",
   "metadata": {},
   "source": [
    "Calculate posterior parameters in the following cell"
   ]
  },
  {
   "cell_type": "code",
   "execution_count": 235,
   "metadata": {},
   "outputs": [
    {
     "name": "stdout",
     "output_type": "stream",
     "text": [
      "a_n: 10.01\n",
      "b_n: 3.433717919952936\n",
      "myn: [ 0.84301439 -2.1263052   0.53209947]\n",
      "omegan: [[ 0.35312307 -1.37476809  1.11626469]\n",
      " [-1.37476809  7.58668316 -7.06967636]\n",
      " [ 1.11626469 -7.06967636  7.06967636]]\n"
     ]
    }
   ],
   "source": [
    "predictors = data.columns[1:4]\n",
    "X = data[predictors]\n",
    "n = X.shape[0]\n",
    "a0 = 0.01\n",
    "b0 = 0.01\n",
    "my0 = np.zeros(len(X.columns))\n",
    "\n",
    "omega0_inv = X.T.dot(X) / n\n",
    "\n",
    "a_n = a0 + n/2\n",
    "myn = np.linalg.inv((X.T.dot(X)) + omega0_inv).dot(omega0_inv.dot(my0) + X.T.dot(Y))\n",
    "omegan = np.linalg.inv((X.T.dot(X)) + omega0_inv)\n",
    "b_n = b0 + 0.5 * (Y.T.dot(Y) + my0.T.dot(omega0_inv).dot(my0) - myn.T.dot(np.linalg.inv(omegan)).dot(myn))\n",
    "\n",
    "print(f'a_n: {a_n}')\n",
    "print(f'b_n: {b_n}')\n",
    "print(f'myn: {myn}')\n",
    "print(f'omegan: {omegan}')"
   ]
  },
  {
   "cell_type": "markdown",
   "metadata": {},
   "source": [
    "#### Monte Carlo for credible intervals\n",
    "\n",
    "To obtain credible intervals for $\\beta$ we could use the $t$ distribution. But we would use Monte Carlo instead as this will cover more general models. e.g. logistic regression.\n",
    "\n",
    "So we will sample $N$ Monte Carlo samples from $\\pi(\\beta|y)$ and use them  for Monte Carlo inference (credible intervals, density plots etc)\n",
    "\n",
    "Monte Carlo Samples can be drawn by\n",
    "\n",
    "1. Generating samples $\\sigma_i^2$ from $\\Gamma(\\alpha_n,\\beta_n)$, $i=1,\\dots,N$,\n",
    "2. Draw $\\beta_i$ sample based on each $\\sigma_i^2$ from N($\\mu_n,\\sigma^2\\Omega_n^2$)"
   ]
  },
  {
   "cell_type": "code",
   "execution_count": 236,
   "metadata": {},
   "outputs": [
    {
     "data": {
      "text/plain": [
       "(array([ 0.8397928 , -2.10856783,  0.51358044]),\n",
       " array([ 0.10757221, -5.43199726, -2.74537905]),\n",
       " array([1.55398491, 1.26150799, 3.80031877]))"
      ]
     },
     "execution_count": 236,
     "metadata": {},
     "output_type": "execute_result"
    }
   ],
   "source": [
    "#Calculate 95% credible intervals\n",
    "p = X.shape[1]\n",
    "mu_n = myn\n",
    "Om_n = omegan\n",
    "N = 10000 #number of Monte Carlo samples\n",
    "sigma2 = 1/np.random.gamma(a_n, 1/b_n, N)\n",
    "betas = np.zeros((N,p))\n",
    "# draw N samples from the marginal posterior of beta\n",
    "for i in range(0,N):\n",
    "    s2 =sigma2[i]\n",
    "    cov = s2*Om_n\n",
    "    betas[i,] = np.random.multivariate_normal(mu_n,cov,1)\n",
    "\n",
    "#find the mean of each column which corresponds to each beta coefficient     \n",
    "mu_beta = np.mean(betas, axis=0)\n",
    "#find the 2.5 and 97.5 percentils which correspond to each beta coefficient \n",
    "lower95 = np.percentile(betas,2.5,axis=0)\n",
    "upper95 = np.percentile(betas,97.5,axis=0)\n",
    "mu_beta, lower95, upper95"
   ]
  },
  {
   "cell_type": "markdown",
   "metadata": {},
   "source": [
    "As before we put it all in a function. This is quite handy as it is hard to find such a function in Python!!"
   ]
  },
  {
   "cell_type": "code",
   "execution_count": 237,
   "metadata": {},
   "outputs": [],
   "source": [
    "# function for Bayesian Linear regression, return posterior mean and 95% CIs\n",
    "def BLR(X,y,mu_0,Om_0_inv,a_0,b_0,ind_names,N):\n",
    "    col_names = ['posterior mean','lower 95% bound','upper 95% bound']\n",
    "    n,p = X.shape\n",
    "    XtX = X.T.dot(X)\n",
    "    Om_n_inv = XtX + Om_0_inv\n",
    "    Om_n = sc.linalg.inv(Om_n_inv)\n",
    "    term1 = Om_0_inv.dot(mu_0)+X.T.dot(y)\n",
    "    mu_n = Om_n.dot(term1)\n",
    "    a_n = a_0 + n/2\n",
    "    term2 = y.T.dot(y)+mu_0.dot(Om_0_inv.dot(mu_0))-mu_n.dot(Om_n_inv.dot(mu_n))\n",
    "    b_n = b_0 + term2/2\n",
    "    sigma2 = 1/np.random.gamma(a_n, 1/b_n, N)\n",
    "    betas = np.zeros((N,p))\n",
    "    # draw N samples from the marginal posterior of beta\n",
    "    for i in range(0,N):\n",
    "        s2 =sigma2[i]\n",
    "        cov = s2*Om_n\n",
    "        betas[i,] = np.random.multivariate_normal(mu_n,cov,1)\n",
    "\n",
    "    #find the mean of each column which corresponds to each beta coefficient     \n",
    "    mu_beta = np.mean(betas, axis=0)\n",
    "    #find the 2.5 and 97.5 percentils which correspond to each beta coefficient \n",
    "    lower95 = np.percentile(betas,2.5,axis=0)\n",
    "    upper95 = np.percentile(betas,97.5,axis=0)\n",
    "    results = np.column_stack([mu_beta,lower95,upper95])\n",
    "    results = pd.DataFrame(results,columns = col_names,index=ind_names)\n",
    "    return results, mu_n, Om_n, a_n, b_n"
   ]
  },
  {
   "cell_type": "markdown",
   "metadata": {},
   "source": [
    "### Marginal likelihood / Model Evidence\n",
    "\n",
    "Finally we will calculate the marginal likelihood / model evidence of a given model. We will use the following trick covered in the lecture\n",
    "\n",
    "We can write\n",
    "$$\n",
    "\\pi(\\beta,\\sigma^2|y,X)=\\frac{\\pi(y|\\beta,\\sigma^2,X)\\pi(\\beta,\\sigma^2)}{\\pi(y|X)},\n",
    "$$\n",
    "or else\n",
    "$$\n",
    "\\pi(y|X)=\\frac{\\pi(y|\\beta,\\sigma^2,X)\\pi(\\beta,\\sigma^2)}{\\pi(\\beta,\\sigma^2|y,X)},\n",
    "$$\n",
    "for all $\\beta, \\sigma^2$.\n",
    "\n",
    "The expression above contains known Normal and Inverse Gamma pdfs so we can just evaluate for -say- the posterior mean of $\\beta$, $\\sigma^2$.\n",
    "\n",
    "The calculation involves the following steps\n",
    "\n",
    "1. Specify data and prior\n",
    "2. get the parameters of the posteriod distribution\n",
    "3. evaluate the log-likelihood, log-prior and log-posterior at the posterior mean\n",
    "4. The log-evidence is equal to log-likelihood + log-prior - log-posterior"
   ]
  },
  {
   "cell_type": "code",
   "execution_count": 238,
   "metadata": {},
   "outputs": [
    {
     "data": {
      "text/plain": [
       "-18.212515913837258"
      ]
     },
     "execution_count": 238,
     "metadata": {},
     "output_type": "execute_result"
    }
   ],
   "source": [
    "# Step 1\n",
    "npower = 3\n",
    "predictors = ['x0','x']\n",
    "predictors.extend(['x%d'%i for i in range(2,npower+1)])\n",
    "X = data[predictors]\n",
    "y = data['y']\n",
    "n,p = X.shape\n",
    "\n",
    "# Step 2\n",
    "mu_0 = np.zeros(p)\n",
    "XtX = X.T.dot(X)\n",
    "Om_0_inv = XtX/n #unit information prior\n",
    "a_0 = 0.1\n",
    "b_0 = 0.1\n",
    "N=10000 #Monte Carlo sample size\n",
    "results, mu_n, Om_n, a_n, b_n = BLR(X,y,mu_0,Om_0_inv,a_0,b_0,predictors,N)\n",
    "\n",
    "# Step 3\n",
    "# evaluate log-likelihood\n",
    "beta = mu_n\n",
    "sigma2 = b_n/(a_n-1)\n",
    "Om_0 = sc.linalg.inv(Om_0_inv)\n",
    "mu = X.dot(beta)\n",
    "cov = sigma2*np.eye(n)\n",
    "ll = sc.stats.multivariate_normal.logpdf(y,mu,cov)\n",
    "# evaluate log-prior\n",
    "lprior = a_0*np.log(b_0)-sc.special.loggamma(a_0)- (a_0+1)*np.log(sigma2)-b_0/sigma2\n",
    "lprior = lprior + sc.stats.multivariate_normal.logpdf(beta,mu_0,sigma2*Om_0)\n",
    "# evaluate log-posterior\n",
    "lpost = a_n*np.log(b_n)-sc.special.loggamma(a_n)- (a_n+1)*np.log(sigma2)-b_n/sigma2\n",
    "lpost = lpost + sc.stats.multivariate_normal.logpdf(beta,mu_n,sigma2*Om_n)\n",
    "\n",
    "lmodevid = ll+lprior-lpost\n",
    "lmodevid"
   ]
  },
  {
   "cell_type": "markdown",
   "metadata": {},
   "source": [
    "Let's make it a function. Again not easy to find such a function, keep it!"
   ]
  },
  {
   "cell_type": "code",
   "execution_count": 239,
   "metadata": {},
   "outputs": [],
   "source": [
    "def ModEvidence(X,y,mu_n,Om_n,mu_0,Om_0_inv,a_n,b_n,a_0,b_0): \n",
    "    beta = mu_n\n",
    "    sigma2 = b_n/(a_n-1)\n",
    "    Om_0 = sc.linalg.inv(Om_0_inv)\n",
    "    mu = X.dot(beta)\n",
    "    cov = sigma2*np.eye(X.shape[0])\n",
    "    ll = sc.stats.multivariate_normal.logpdf(y,mu,cov)\n",
    "    # evaluate log-prior\n",
    "    lprior = a_0*np.log(b_0)-sc.special.loggamma(a_0)- (a_0+1)*np.log(sigma2)-b_0/sigma2\n",
    "    lprior = lprior + sc.stats.multivariate_normal.logpdf(beta,mu_0,sigma2*Om_0)\n",
    "    # evaluate log-posterior\n",
    "    lpost = a_n*np.log(b_n)-sc.special.loggamma(a_n)- (a_n+1)*np.log(sigma2)-b_n/sigma2\n",
    "    lpost = lpost +sc.stats.multivariate_normal.logpdf(beta,mu_n,sigma2*Om_n)\n",
    "    lmodevid = ll+lprior-lpost\n",
    "    return lmodevid"
   ]
  },
  {
   "cell_type": "markdown",
   "metadata": {},
   "source": [
    "Now to get the evidence for a model we can simply use the code below"
   ]
  },
  {
   "cell_type": "code",
   "execution_count": 240,
   "metadata": {},
   "outputs": [
    {
     "data": {
      "text/plain": [
       "-25.122117003562494"
      ]
     },
     "execution_count": 240,
     "metadata": {},
     "output_type": "execute_result"
    }
   ],
   "source": [
    "# Data\n",
    "npower = 2\n",
    "predictors = ['x0','x']\n",
    "predictors.extend(['x%d'%i for i in range(2,npower+1)])\n",
    "X = data[predictors]\n",
    "y = data['y']\n",
    "n,p = X.shape\n",
    "\n",
    "# Prior\n",
    "mu_0 = np.zeros(p)\n",
    "XtX = X.T.dot(X)\n",
    "Om_0_inv = XtX/n #unit information prior\n",
    "a_0 = 0.1\n",
    "b_0 = 0.1\n",
    "\n",
    "# Calculation\n",
    "N=10000 #Monte Carlo sample size\n",
    "results, mu_n, Om_n, a_n, b_n = BLR(X,y,mu_0,Om_0_inv,a_0,b_0,predictors,N)\n",
    "lmodevid = ModEvidence(X,y,mu_n,Om_n,mu_0,Om_0_inv,a_n,b_n,a_0,b_0)\n",
    "lmodevid"
   ]
  },
  {
   "cell_type": "markdown",
   "metadata": {},
   "source": [
    "Consider polynomials from order 2 to 6. Find the order of polynomial with the highest model evidence."
   ]
  },
  {
   "cell_type": "code",
   "execution_count": 241,
   "metadata": {},
   "outputs": [
    {
     "name": "stdout",
     "output_type": "stream",
     "text": [
      "npower: 2, lmodevid: -25.122117003562494\n",
      "npower: 3, lmodevid: -18.212515913837258\n",
      "npower: 4, lmodevid: -18.935759028481982\n",
      "npower: 5, lmodevid: -19.246343797546636\n",
      "npower: 6, lmodevid: -20.427637087159354\n",
      "max_evid: -18.212515913837258, npower: 3\n"
     ]
    }
   ],
   "source": [
    "# Data\n",
    "npowers = [2, 3, 4, 5, 6]\n",
    "evid_array = []\n",
    "for npower in npowers:\n",
    "    predictors = ['x0','x']\n",
    "    predictors.extend(['x%d'%i for i in range(2,npower+1)])\n",
    "    X = data[predictors]\n",
    "    y = data['y']\n",
    "    n,p = X.shape\n",
    "\n",
    "    # Prior\n",
    "    mu_0 = np.zeros(p)\n",
    "    XtX = X.T.dot(X)\n",
    "    Om_0_inv = XtX/n #unit information prior\n",
    "    a_0 = 0.1\n",
    "    b_0 = 0.1\n",
    "\n",
    "    # Calculation\n",
    "    N=10000 #Monte Carlo sample size\n",
    "    results, mu_n, Om_n, a_n, b_n = BLR(X,y,mu_0,Om_0_inv,a_0,b_0,predictors,N)\n",
    "    lmodevid = ModEvidence(X,y,mu_n,Om_n,mu_0,Om_0_inv,a_n,b_n,a_0,b_0)\n",
    "    print(f'npower: {npower}, lmodevid: {lmodevid}')\n",
    "    evid_array.append(lmodevid)\n",
    "\n",
    "max_evid = max(evid_array)\n",
    "print(f'max_evid: {max_evid}, npower: {npowers[np.argmax(evid_array)]}')"
   ]
  },
  {
   "cell_type": "markdown",
   "metadata": {},
   "source": [
    "### Autmobile Bodily Injury Claims Data\n",
    "\n",
    "Source: Insurance Research Council (IRC)\n",
    "\n",
    "The data are automobile injury claims data using data from the Insurance Research Council (IRC), a division of the American Institute for Chartered Property Casualty Underwriters and the Insurance Institute of America. The data, collected in 2002, contains information on the gender of the claimant, attorney involvement, years of driving experience and the economic loss (LOSS, in thousands). A detailed description of the variables in the data is provided below:\n",
    "\n",
    "- Attorney: Whether the claimant is represented by an attorney (=1 if yes and =0 if no)\n",
    "- CLMSEX: Claimant’s gender (=1 if male and =0 if female \n",
    "- CLMAGE: Claimant’s age minus the age driving license was obtained\n",
    "- LOSS: The claimant’s total economic loss (in thousands $)\n",
    "\n",
    "For confidentiality issues we consider here a sample of  simulated data similar to that of a state is considered. \n",
    "\n",
    "The data are in the provided file 'automobileBI.csv'"
   ]
  },
  {
   "cell_type": "code",
   "execution_count": 242,
   "metadata": {},
   "outputs": [
    {
     "data": {
      "text/html": [
       "<div>\n",
       "<style scoped>\n",
       "    .dataframe tbody tr th:only-of-type {\n",
       "        vertical-align: middle;\n",
       "    }\n",
       "\n",
       "    .dataframe tbody tr th {\n",
       "        vertical-align: top;\n",
       "    }\n",
       "\n",
       "    .dataframe thead th {\n",
       "        text-align: right;\n",
       "    }\n",
       "</style>\n",
       "<table border=\"1\" class=\"dataframe\">\n",
       "  <thead>\n",
       "    <tr style=\"text-align: right;\">\n",
       "      <th></th>\n",
       "      <th>ATTORNEY</th>\n",
       "      <th>CLMSEX</th>\n",
       "      <th>CLMAGE</th>\n",
       "      <th>LOSS</th>\n",
       "    </tr>\n",
       "  </thead>\n",
       "  <tbody>\n",
       "    <tr>\n",
       "      <th>0</th>\n",
       "      <td>1</td>\n",
       "      <td>0</td>\n",
       "      <td>1.8</td>\n",
       "      <td>6.38</td>\n",
       "    </tr>\n",
       "    <tr>\n",
       "      <th>1</th>\n",
       "      <td>0</td>\n",
       "      <td>0</td>\n",
       "      <td>5.6</td>\n",
       "      <td>0.95</td>\n",
       "    </tr>\n",
       "    <tr>\n",
       "      <th>2</th>\n",
       "      <td>1</td>\n",
       "      <td>1</td>\n",
       "      <td>1.4</td>\n",
       "      <td>1.88</td>\n",
       "    </tr>\n",
       "    <tr>\n",
       "      <th>3</th>\n",
       "      <td>0</td>\n",
       "      <td>1</td>\n",
       "      <td>5.4</td>\n",
       "      <td>0.11</td>\n",
       "    </tr>\n",
       "    <tr>\n",
       "      <th>4</th>\n",
       "      <td>1</td>\n",
       "      <td>0</td>\n",
       "      <td>0.9</td>\n",
       "      <td>6.95</td>\n",
       "    </tr>\n",
       "  </tbody>\n",
       "</table>\n",
       "</div>"
      ],
      "text/plain": [
       "   ATTORNEY  CLMSEX  CLMAGE  LOSS\n",
       "0         1       0     1.8  6.38\n",
       "1         0       0     5.6  0.95\n",
       "2         1       1     1.4  1.88\n",
       "3         0       1     5.4  0.11\n",
       "4         1       0     0.9  6.95"
      ]
     },
     "execution_count": 242,
     "metadata": {},
     "output_type": "execute_result"
    }
   ],
   "source": [
    "Auto = pd.read_csv(\"automobileBI.csv\") \n",
    "Auto.head()"
   ]
  },
  {
   "cell_type": "code",
   "execution_count": 243,
   "metadata": {},
   "outputs": [
    {
     "data": {
      "text/html": [
       "<div>\n",
       "<style scoped>\n",
       "    .dataframe tbody tr th:only-of-type {\n",
       "        vertical-align: middle;\n",
       "    }\n",
       "\n",
       "    .dataframe tbody tr th {\n",
       "        vertical-align: top;\n",
       "    }\n",
       "\n",
       "    .dataframe thead th {\n",
       "        text-align: right;\n",
       "    }\n",
       "</style>\n",
       "<table border=\"1\" class=\"dataframe\">\n",
       "  <thead>\n",
       "    <tr style=\"text-align: right;\">\n",
       "      <th></th>\n",
       "      <th>ATTORNEY</th>\n",
       "      <th>CLMSEX</th>\n",
       "      <th>CLMAGE</th>\n",
       "      <th>LOSS</th>\n",
       "    </tr>\n",
       "  </thead>\n",
       "  <tbody>\n",
       "    <tr>\n",
       "      <th>count</th>\n",
       "      <td>1296.000000</td>\n",
       "      <td>1296.000000</td>\n",
       "      <td>1296.000000</td>\n",
       "      <td>1296.000000</td>\n",
       "    </tr>\n",
       "    <tr>\n",
       "      <th>mean</th>\n",
       "      <td>0.510802</td>\n",
       "      <td>0.423611</td>\n",
       "      <td>4.885571</td>\n",
       "      <td>4.616821</td>\n",
       "    </tr>\n",
       "    <tr>\n",
       "      <th>std</th>\n",
       "      <td>0.500076</td>\n",
       "      <td>0.494321</td>\n",
       "      <td>4.586972</td>\n",
       "      <td>7.570060</td>\n",
       "    </tr>\n",
       "    <tr>\n",
       "      <th>min</th>\n",
       "      <td>0.000000</td>\n",
       "      <td>0.000000</td>\n",
       "      <td>0.100000</td>\n",
       "      <td>0.010000</td>\n",
       "    </tr>\n",
       "    <tr>\n",
       "      <th>25%</th>\n",
       "      <td>0.000000</td>\n",
       "      <td>0.000000</td>\n",
       "      <td>1.700000</td>\n",
       "      <td>0.637500</td>\n",
       "    </tr>\n",
       "    <tr>\n",
       "      <th>50%</th>\n",
       "      <td>1.000000</td>\n",
       "      <td>0.000000</td>\n",
       "      <td>3.300000</td>\n",
       "      <td>2.000000</td>\n",
       "    </tr>\n",
       "    <tr>\n",
       "      <th>75%</th>\n",
       "      <td>1.000000</td>\n",
       "      <td>1.000000</td>\n",
       "      <td>6.600000</td>\n",
       "      <td>5.227500</td>\n",
       "    </tr>\n",
       "    <tr>\n",
       "      <th>max</th>\n",
       "      <td>1.000000</td>\n",
       "      <td>1.000000</td>\n",
       "      <td>31.300000</td>\n",
       "      <td>76.170000</td>\n",
       "    </tr>\n",
       "  </tbody>\n",
       "</table>\n",
       "</div>"
      ],
      "text/plain": [
       "          ATTORNEY       CLMSEX       CLMAGE         LOSS\n",
       "count  1296.000000  1296.000000  1296.000000  1296.000000\n",
       "mean      0.510802     0.423611     4.885571     4.616821\n",
       "std       0.500076     0.494321     4.586972     7.570060\n",
       "min       0.000000     0.000000     0.100000     0.010000\n",
       "25%       0.000000     0.000000     1.700000     0.637500\n",
       "50%       1.000000     0.000000     3.300000     2.000000\n",
       "75%       1.000000     1.000000     6.600000     5.227500\n",
       "max       1.000000     1.000000    31.300000    76.170000"
      ]
     },
     "execution_count": 243,
     "metadata": {},
     "output_type": "execute_result"
    }
   ],
   "source": [
    "Auto.describe()"
   ]
  },
  {
   "cell_type": "code",
   "execution_count": 244,
   "metadata": {},
   "outputs": [
    {
     "data": {
      "image/png": "[encoded data removed]",
      "text/plain": [
       "<Figure size 1000x1000 with 20 Axes>"
      ]
     },
     "metadata": {},
     "output_type": "display_data"
    }
   ],
   "source": [
    "sns.pairplot(Auto)\n",
    "plt.show()"
   ]
  },
  {
   "cell_type": "markdown",
   "metadata": {},
   "source": [
    "Consider all possible regression models with the LOSS variable as response and some (or all or none) of the other variables present (in their current form, no polynomials). There are 8 such models.\n",
    "\n",
    "Calculate the model evidence for each of them, report the optimal one and present posterior estimates of its coefficients."
   ]
  },
  {
   "cell_type": "code",
   "execution_count": 266,
   "metadata": {},
   "outputs": [
    {
     "name": "stdout",
     "output_type": "stream",
     "text": [
      "Index(['DUMMY', 'ATTORNEY', 'CLMSEX', 'CLMAGE', 'LOSS'], dtype='object')\n"
     ]
    }
   ],
   "source": [
    "from itertools import combinations\n",
    "\n",
    "Auto = pd.read_csv(\"AutomobileBI.csv\")\n",
    "Auto.insert(0, 'DUMMY', np.ones(Auto.shape[0]))\n",
    "print(Auto.columns)\n",
    "variables = ['ATTORNEY', 'CLMSEX', 'CLMAGE']\n",
    "all_combinations = []\n",
    "for i in range(len(variables)+1):\n",
    "    comb = combinations(variables, i)\n",
    "    all_combinations.extend(comb)\n",
    "\n",
    "all_combinations = [('DUMMY',),\n",
    " ('ATTORNEY',),\n",
    " ('CLMSEX',),\n",
    " ('CLMAGE',),\n",
    " ('ATTORNEY', 'CLMSEX'),\n",
    " ('ATTORNEY', 'CLMAGE'),\n",
    " ('CLMSEX', 'CLMAGE'),\n",
    " ('ATTORNEY', 'CLMSEX', 'CLMAGE')]\n"
   ]
  },
  {
   "cell_type": "code",
   "execution_count": 267,
   "metadata": {},
   "outputs": [
    {
     "name": "stdout",
     "output_type": "stream",
     "text": [
      "combination: ('DUMMY',), lmodevid: -4470.785914944492\n",
      "combination: ('ATTORNEY',), lmodevid: -4463.463921816491\n",
      "combination: ('CLMSEX',), lmodevid: -4602.092067231804\n",
      "combination: ('CLMAGE',), lmodevid: -4584.536837784784\n",
      "combination: ('ATTORNEY', 'CLMSEX'), lmodevid: -4464.726370024163\n",
      "combination: ('ATTORNEY', 'CLMAGE'), lmodevid: -4454.542855421381\n",
      "combination: ('CLMSEX', 'CLMAGE'), lmodevid: -4562.153798573362\n",
      "combination: ('ATTORNEY', 'CLMSEX', 'CLMAGE'), lmodevid: -4457.679089482983\n",
      "max_evid: -4454.542855421381, combination: ('ATTORNEY', 'CLMAGE')\n",
      "best_posterior values: mu_n: [5.72902644 0.1782908 ], Om_n: [[ 1.99176030e-03 -1.04553331e-04]\n",
      " [-1.04553331e-04  2.26627501e-05]], a_n: 648.1, b_n: 35997.974167087676\n"
     ]
    }
   ],
   "source": [
    "lmodevid_array = []\n",
    "best_evid = -np.inf\n",
    "best_posterior = None\n",
    "for comb in all_combinations:\n",
    "    X = Auto[list(comb)]\n",
    "    y = Auto['LOSS']\n",
    "    n,p = X.shape\n",
    "\n",
    "    # Prior\n",
    "    mu_0 = np.zeros(p)\n",
    "    XtX = X.T.dot(X)\n",
    "    Om_0_inv = XtX/n #unit information prior\n",
    "    a_0 = 0.1\n",
    "    b_0 = 0.1\n",
    "\n",
    "    # Calculation\n",
    "    N=10000 #Monte Carlo sample size\n",
    "    results, mu_n, Om_n, a_n, b_n = BLR(X,y,mu_0,Om_0_inv,a_0,b_0,list(comb),N)\n",
    "    lmodevid = ModEvidence(X,y,mu_n,Om_n,mu_0,Om_0_inv,a_n,b_n,a_0,b_0)\n",
    "    if lmodevid > best_evid:\n",
    "        best_evid = lmodevid\n",
    "        best_posterior = (mu_n, Om_n, a_n, b_n)\n",
    "    lmodevid_array.append(lmodevid)\n",
    "    print(f'combination: {comb}, lmodevid: {lmodevid}')\n",
    "\n",
    "max_evid = max(lmodevid_array)\n",
    "print(f'max_evid: {max_evid}, combination: {all_combinations[np.argmax(lmodevid_array)]}')\n",
    "print(f'best_posterior values: mu_n: {best_posterior[0]}, Om_n: {best_posterior[1]}, a_n: {best_posterior[2]}, b_n: {best_posterior[3]}')\n"
   ]
  }
 ],
 "metadata": {
  "kernelspec": {
   "display_name": "base",
   "language": "python",
   "name": "python3"
  },
  "language_info": {
   "codemirror_mode": {
    "name": "ipython",
    "version": 3
   },
   "file_extension": ".py",
   "mimetype": "text/x-python",
   "name": "python",
   "nbconvert_exporter": "python",
   "pygments_lexer": "ipython3",
   "version": "3.9.7"
  }
 },
 "nbformat": 4,
 "nbformat_minor": 4
}
