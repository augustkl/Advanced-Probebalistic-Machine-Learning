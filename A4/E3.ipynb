{
 "cells": [
  {
   "cell_type": "markdown",
   "metadata": {},
   "source": [
    "Calculate probability that company is using high-quality steel"
   ]
  },
  {
   "cell_type": "code",
   "execution_count": null,
   "metadata": {},
   "outputs": [
    {
     "name": "stdout",
     "output_type": "stream",
     "text": [
      "Estimated probability for high-quality steel:  0.336\n"
     ]
    }
   ],
   "source": [
    "import numpy as np\n",
    "\n",
    "Sum = 0\n",
    "nr_timesteps = 10000\n",
    "true_cases = 0\n",
    "\n",
    "while (Sum < nr_timesteps):\n",
    "    if (np.random.rand() <= 0.25):\n",
    "        my_lambda = 10\n",
    "        Q = 1\n",
    "    else:\n",
    "        my_lambda = 7\n",
    "        Q = 0\n",
    "\n",
    "    x = np.random.poisson(my_lambda)\n",
    "    y = np.random.poisson(my_lambda)\n",
    "\n",
    "    if (x == 8 and y == 10):\n",
    "        if Q == 1:\n",
    "            true_cases += 1\n",
    "        Sum += 1\n",
    "\n",
    "    \n",
    "#Find out fraction of samples that indicate high quality-steel\n",
    "p = true_cases / Sum\n",
    "print(\"Estimated probability for high-quality steel: \", p)"
   ]
  }
 ],
 "metadata": {
  "kernelspec": {
   "display_name": "base",
   "language": "python",
   "name": "python3"
  },
  "language_info": {
   "codemirror_mode": {
    "name": "ipython",
    "version": 3
   },
   "file_extension": ".py",
   "mimetype": "text/x-python",
   "name": "python",
   "nbconvert_exporter": "python",
   "pygments_lexer": "ipython3",
   "version": "3.9.7"
  }
 },
 "nbformat": 4,
 "nbformat_minor": 2
}
